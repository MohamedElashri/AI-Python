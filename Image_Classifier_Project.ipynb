{
  "nbformat": 4,
  "nbformat_minor": 0,
  "metadata": {
    "kernelspec": {
      "name": "python3",
      "display_name": "Python 3"
    },
    "language_info": {
      "codemirror_mode": {
        "name": "ipython",
        "version": 3
      },
      "file_extension": ".py",
      "mimetype": "text/x-python",
      "name": "python",
      "nbconvert_exporter": "python",
      "pygments_lexer": "ipython3",
      "version": "3.6.4"
    },
    "colab": {
      "name": "Image Classifier Project.ipynb",
      "provenance": [],
      "collapsed_sections": []
    },
    "accelerator": "GPU"
  },
  "cells": [
    {
      "cell_type": "markdown",
      "metadata": {
        "id": "4AwCwxk-gywq",
        "colab_type": "text"
      },
      "source": [
        "# Developing an AI application\n",
        "\n",
        "Going forward, AI algorithms will be incorporated into more and more everyday applications. For example, you might want to include an image classifier in a smart phone app. To do this, you'd use a deep learning model trained on hundreds of thousands of images as part of the overall application architecture. A large part of software development in the future will be using these types of models as common parts of applications. \n",
        "\n",
        "In this project, you'll train an image classifier to recognize different species of flowers. You can imagine using something like this in a phone app that tells you the name of the flower your camera is looking at. In practice you'd train this classifier, then export it for use in your application. We'll be using [this dataset](http://www.robots.ox.ac.uk/~vgg/data/flowers/102/index.html) of 102 flower categories, you can see a few examples below. \n",
        "\n",
        "<img src='assets/Flowers.png' width=500px>\n",
        "\n",
        "The project is broken down into multiple steps:\n",
        "\n",
        "* Load and preprocess the image dataset\n",
        "* Train the image classifier on your dataset\n",
        "* Use the trained classifier to predict image content\n",
        "\n",
        "We'll lead you through each part which you'll implement in Python.\n",
        "\n",
        "When you've completed this project, you'll have an application that can be trained on any set of labeled images. Here your network will be learning about flowers and end up as a command line application. But, what you do with your new skills depends on your imagination and effort in building a dataset. For example, imagine an app where you take a picture of a car, it tells you what the make and model is, then looks up information about it. Go build your own dataset and make something new.\n",
        "\n",
        "First up is importing the packages you'll need. It's good practice to keep all the imports at the beginning of your code. As you work through this notebook and find you need to import a package, make sure to add the import up here."
      ]
    },
    {
      "cell_type": "code",
      "metadata": {
        "id": "FtQnI5VJhULe",
        "colab_type": "code",
        "outputId": "dc897c38-6408-4dac-c840-9d2fe8cf897e",
        "colab": {
          "base_uri": "https://localhost:8080/",
          "height": 34
        }
      },
      "source": [
        "from google.colab import drive\n",
        "drive.mount('/content/drive')"
      ],
      "execution_count": 0,
      "outputs": [
        {
          "output_type": "stream",
          "text": [
            "Drive already mounted at /content/drive; to attempt to forcibly remount, call drive.mount(\"/content/drive\", force_remount=True).\n"
          ],
          "name": "stdout"
        }
      ]
    },
    {
      "cell_type": "code",
      "metadata": {
        "id": "VzFkrBSbgywu",
        "colab_type": "code",
        "colab": {}
      },
      "source": [
        "# Imports here\n",
        "import matplotlib.pyplot as plt\n",
        "import torch\n",
        "from torch import nn\n",
        "from torch import optim\n",
        "import torch.nn.functional as F\n",
        "from torchvision import datasets, transforms,models\n",
        "from collections import OrderedDict\n",
        "from PIL import Image"
      ],
      "execution_count": 0,
      "outputs": []
    },
    {
      "cell_type": "markdown",
      "metadata": {
        "id": "gCB9xtWbgyw6",
        "colab_type": "text"
      },
      "source": [
        "## Load the data\n",
        "\n",
        "Here you'll use `torchvision` to load the data ([documentation](http://pytorch.org/docs/master/torchvision/transforms.html#)). The data should be included alongside this notebook, otherwise you can [download it here](https://s3.amazonaws.com/content.udacity-data.com/nd089/flower_data.tar.gz). The dataset is split into three parts, training, validation, and testing. For the training, you'll want to apply transformations such as random scaling, cropping, and flipping. This will help the network generalize leading to better performance. You'll also need to make sure the input data is resized to 224x224 pixels as required by the pre-trained networks.\n",
        "\n",
        "The validation and testing sets are used to measure the model's performance on data it hasn't seen yet. For this you don't want any scaling or rotation transformations, but you'll need to resize then crop the images to the appropriate size.\n",
        "\n",
        "For all three sets you'll need to normalize the means and standard deviations of the images to what the network expects. For the means, it's `[0.485, 0.456, 0.406]` and for the standard deviations `[0.229, 0.224, 0.225]`. This converts the values of each color channel to be between -1 and 1 instead of 0 and 1."
      ]
    },
    {
      "cell_type": "code",
      "metadata": {
        "id": "1QiBQ5Ubgyw9",
        "colab_type": "code",
        "colab": {}
      },
      "source": [
        "data_dir = '/content/drive/My Drive/project//flowers'\n",
        "train_dir = data_dir + '/train'\n",
        "valid_dir = data_dir + '/valid'\n",
        "test_dir = data_dir + '/test'"
      ],
      "execution_count": 0,
      "outputs": []
    },
    {
      "cell_type": "code",
      "metadata": {
        "id": "0MEUNyCbgyxC",
        "colab_type": "code",
        "colab": {}
      },
      "source": [
        "# TODO: Define your transforms for the training, validation, and testing sets\n",
        "data_transforms = transforms = transforms.Compose([transforms.Resize(255),\n",
        "                                 transforms.CenterCrop(224),\n",
        "                                 transforms.ToTensor(),\n",
        "                                 transforms.Normalize([0.485, 0.456, 0.406], \n",
        "                                                      [0.229, 0.224, 0.225])])\n",
        "\n",
        "# TODO: Load the datasets with ImageFolder\n",
        "\n",
        "image_datasets =  datasets.ImageFolder(train_dir, transform=data_transforms)\n",
        "test_datasets =  datasets.ImageFolder(test_dir, transform=data_transforms)\n",
        "val_datasets =  datasets.ImageFolder(valid_dir, transform=data_transforms)\n",
        "\n",
        "# TODO: Using the image datasets and the trainforms, define the dataloaders\n",
        "dataloaders = torch.utils.data.DataLoader(image_datasets, batch_size=64, shuffle=True)\n",
        "test_loaders = torch.utils.data.DataLoader(test_datasets, batch_size=64, shuffle=True)\n",
        "val_loaders = torch.utils.data.DataLoader(val_datasets, batch_size=64, shuffle=True)"
      ],
      "execution_count": 0,
      "outputs": []
    },
    {
      "cell_type": "markdown",
      "metadata": {
        "id": "bLbN5ek2gyxK",
        "colab_type": "text"
      },
      "source": [
        "### Label mapping\n",
        "\n",
        "You'll also need to load in a mapping from category label to category name. You can find this in the file `cat_to_name.json`. It's a JSON object which you can read in with the [`json` module](https://docs.python.org/2/library/json.html). This will give you a dictionary mapping the integer encoded categories to the actual names of the flowers."
      ]
    },
    {
      "cell_type": "code",
      "metadata": {
        "id": "-Leos18KgyxL",
        "colab_type": "code",
        "colab": {}
      },
      "source": [
        "import json\n",
        "\n",
        "with open('/content/drive/My Drive/project/cat_to_name.json', 'r') as f:\n",
        "    cat_to_name = json.load(f)"
      ],
      "execution_count": 0,
      "outputs": []
    },
    {
      "cell_type": "markdown",
      "metadata": {
        "id": "JBNUOJIGgyxP",
        "colab_type": "text"
      },
      "source": [
        "# Building and training the classifier\n",
        "\n",
        "Now that the data is ready, it's time to build and train the classifier. As usual, you should use one of the pretrained models from `torchvision.models` to get the image features. Build and train a new feed-forward classifier using those features.\n",
        "\n",
        "We're going to leave this part up to you. If you want to talk through it with someone, chat with your fellow students! You can also ask questions on the forums or join the instructors in office hours.\n",
        "\n",
        "Refer to [the rubric](https://review.udacity.com/#!/rubrics/1663/view) for guidance on successfully completing this section. Things you'll need to do:\n",
        "\n",
        "* Load a [pre-trained network](http://pytorch.org/docs/master/torchvision/models.html) (If you need a starting point, the VGG networks work great and are straightforward to use)\n",
        "* Define a new, untrained feed-forward network as a classifier, using ReLU activations and dropout\n",
        "* Train the classifier layers using backpropagation using the pre-trained network to get the features\n",
        "* Track the loss and accuracy on the validation set to determine the best hyperparameters\n",
        "\n",
        "We've left a cell open for you below, but use as many as you need. Our advice is to break the problem up into smaller parts you can run separately. Check that each part is doing what you expect, then move on to the next. You'll likely find that as you work through each part, you'll need to go back and modify your previous code. This is totally normal!\n",
        "\n",
        "When training make sure you're updating only the weights of the feed-forward network. You should be able to get the validation accuracy above 70% if you build everything right. Make sure to try different hyperparameters (learning rate, units in the classifier, epochs, etc) to find the best model. Save those hyperparameters to use as default values in the next part of the project."
      ]
    },
    {
      "cell_type": "code",
      "metadata": {
        "id": "DEmZu7ClgyxR",
        "colab_type": "code",
        "outputId": "b170651f-f135-4f24-f759-482cd34c748e",
        "colab": {
          "base_uri": "https://localhost:8080/",
          "height": 51
        }
      },
      "source": [
        "# TODO: Build and train your network\n",
        "model=models.vgg16(pretrained=True)\n",
        "\n",
        "classifier = nn.Sequential(OrderedDict([\n",
        "                          ('fc1', nn.Linear(25088, 4096)),\n",
        "                          ('relu1', nn.ReLU()),\n",
        "                          ('dropout2', nn.Dropout()),\n",
        "                          ('fc3', nn.Linear(4096, 102)),\n",
        "                          ('output', nn.LogSoftmax(dim=1))           \n",
        "                          ]))\n",
        "    \n",
        "model.classifier = classifier\n",
        "criterion = nn.CrossEntropyLoss()\n",
        "    # Only train the classifier parameters, feature parameters are frozen\n",
        "optimizer = optim.Adam(model.classifier.parameters(), lr=0.001)\n",
        "print (\"Creation done, starting training\")\n",
        "device = torch.device(\"cuda:0\" if torch.cuda.is_available() else \"cpu\")\n",
        "print(\"Running on \",device)\n",
        "if torch.cuda.is_available():\n",
        "    model.to(device)"
      ],
      "execution_count": 0,
      "outputs": [
        {
          "output_type": "stream",
          "text": [
            "Creation done, starting training\n",
            "Running on  cuda:0\n"
          ],
          "name": "stdout"
        }
      ]
    },
    {
      "cell_type": "markdown",
      "metadata": {
        "id": "4hwrcqFTgyxY",
        "colab_type": "text"
      },
      "source": [
        "## Testing your network\n",
        "\n",
        "It's good practice to test your trained network on test data, images the network has never seen either in training or validation. This will give you a good estimate for the model's performance on completely new images. Run the test images through the network and measure the accuracy, the same way you did validation. You should be able to reach around 70% accuracy on the test set if the model has been trained well."
      ]
    },
    {
      "cell_type": "code",
      "metadata": {
        "id": "m-Cu_I9kgyxb",
        "colab_type": "code",
        "colab": {}
      },
      "source": [
        "# TODO: Do validation on the validation set\n",
        "def validate(model, val_loader, criterion,device):\n",
        "    val_loss = 0\n",
        "    accuracy = 0\n",
        "    if device=='cuda':\n",
        "       devicee=torch.device(\"cuda:0\")\n",
        "       model.to(devicee)\n",
        "    steps=0\n",
        "    model.eval()\n",
        "    for images, labels in val_loader:\n",
        "\n",
        "        \n",
        "        if device=='cuda':\n",
        "           images, labels = images.to(devicee), labels.to(devicee)\n",
        "        \n",
        "        steps+=1\n",
        "        output = model.forward(images)\n",
        "        val_loss += criterion(output, labels).item()\n",
        "        ps = torch.exp(output)\n",
        "        equality = (labels.data == ps.max(dim=1)[1])\n",
        "        accuracy += equality.type(torch.FloatTensor).mean()\n",
        "    \n",
        "    accuracy=accuracy/steps\n",
        "    val_loss=val_loss/steps\n",
        "    return val_loss, accuracy\n"
      ],
      "execution_count": 0,
      "outputs": []
    },
    {
      "cell_type": "code",
      "metadata": {
        "id": "giuWmkXvmgci",
        "colab_type": "code",
        "outputId": "e762a9a4-dc50-40c3-d258-05b3a552dfb6",
        "colab": {
          "base_uri": "https://localhost:8080/",
          "height": 306
        }
      },
      "source": [
        "#Training network cell\n",
        "epochs=10\n",
        "steps = 0\n",
        "for e in range(epochs):\n",
        "        running_loss = 0\n",
        "        for images, labels in iter(dataloaders):\n",
        "            model.train()\n",
        "            steps += 1\n",
        "            if torch.cuda.is_available():\n",
        "                images, labels = images.to(device), labels.to(device)\n",
        "            \n",
        "            optimizer.zero_grad()\n",
        "        \n",
        "            # Forward and backward passes\n",
        "            output = model.forward(images)\n",
        "            loss = criterion(output, labels)\n",
        "            loss.backward()\n",
        "            optimizer.step()\n",
        "            running_loss += loss.item() \n",
        "            \n",
        "          \n",
        "            \n",
        "            if steps % 64 == 0:\n",
        "                with torch.no_grad():\n",
        "                     val_loss, accuracy = validate(model, val_loaders, criterion,'cuda')\n",
        "                \n",
        "                print(\"Epoch: {}/{}.. \".format(e+1, epochs),\n",
        "                  \"Training Loss: {:.3f}.. \".format(running_loss/64),\n",
        "                  \"Test Loss: {:.3f}.. \".format(val_loss),\n",
        "                  \"Test Accuracy: {:.3f}\".format(accuracy))\n",
        "            \n",
        "                running_loss = 0\n",
        "                \n",
        "                \n",
        "print(\"Training has been completed\")"
      ],
      "execution_count": 0,
      "outputs": [
        {
          "output_type": "stream",
          "text": [
            "Epoch: 1/10..  Training Loss: 2.882..  Test Loss: 0.852..  Test Accuracy: 0.780\n",
            "Epoch: 2/10..  Training Loss: 0.124..  Test Loss: 0.602..  Test Accuracy: 0.844\n",
            "Epoch: 2/10..  Training Loss: 0.269..  Test Loss: 0.616..  Test Accuracy: 0.843\n",
            "Epoch: 3/10..  Training Loss: 0.151..  Test Loss: 0.717..  Test Accuracy: 0.831\n",
            "Epoch: 4/10..  Training Loss: 0.032..  Test Loss: 0.645..  Test Accuracy: 0.849\n",
            "Epoch: 4/10..  Training Loss: 0.125..  Test Loss: 0.680..  Test Accuracy: 0.842\n",
            "Epoch: 5/10..  Training Loss: 0.079..  Test Loss: 0.639..  Test Accuracy: 0.851\n",
            "Epoch: 5/10..  Training Loss: 0.181..  Test Loss: 0.757..  Test Accuracy: 0.851\n",
            "Epoch: 6/10..  Training Loss: 0.245..  Test Loss: 0.915..  Test Accuracy: 0.838\n",
            "Epoch: 7/10..  Training Loss: 0.091..  Test Loss: 0.924..  Test Accuracy: 0.820\n",
            "Epoch: 7/10..  Training Loss: 0.276..  Test Loss: 0.982..  Test Accuracy: 0.821\n",
            "Epoch: 8/10..  Training Loss: 0.224..  Test Loss: 0.994..  Test Accuracy: 0.827\n",
            "Epoch: 9/10..  Training Loss: 0.029..  Test Loss: 1.192..  Test Accuracy: 0.831\n",
            "Epoch: 9/10..  Training Loss: 0.285..  Test Loss: 1.166..  Test Accuracy: 0.832\n",
            "Epoch: 10/10..  Training Loss: 0.111..  Test Loss: 1.292..  Test Accuracy: 0.834\n",
            "Epoch: 10/10..  Training Loss: 0.254..  Test Loss: 1.221..  Test Accuracy: 0.845\n",
            "Training has been completed\n"
          ],
          "name": "stdout"
        }
      ]
    },
    {
      "cell_type": "code",
      "metadata": {
        "id": "TzcS3bRMni8U",
        "colab_type": "code",
        "outputId": "82f4a6b5-f15b-436c-9332-b489a17adec5",
        "colab": {
          "base_uri": "https://localhost:8080/",
          "height": 68
        }
      },
      "source": [
        "# Testing cell\n",
        "\n",
        "\n",
        "def test(model, testloader, criterion,device):\n",
        "    print(\"Testing the model on testing dataset .. \")\n",
        "    test_loss = 0\n",
        "    accuracy = 0\n",
        "    if device=='cuda':\n",
        "       devicee=torch.device(\"cuda:0\")\n",
        "       model.to(devicee)\n",
        "    model.eval()\n",
        "\n",
        "    for images, labels in testloader:\n",
        "\n",
        "        \n",
        "        if device=='cuda':\n",
        "           images, labels = images.to(devicee), labels.to(devicee)\n",
        "        output = model.forward(images)\n",
        "        test_loss += criterion(output, labels).item()\n",
        "\n",
        "        ps = torch.exp(output)\n",
        "        equality = (labels.data == ps.max(dim=1)[1])\n",
        "        accuracy += equality.type(torch.FloatTensor).mean()\n",
        "    \n",
        "    print(\"Test Loss: {} , Accuracy : {}\".format(test_loss/len(testloader),accuracy/len(testloader)))\n",
        "\n",
        "test (model,test_loaders,criterion,'cuda')\n",
        "print(\"Test completed\")"
      ],
      "execution_count": 0,
      "outputs": [
        {
          "output_type": "stream",
          "text": [
            "Testing the model on testing dataset .. \n",
            "Test Loss: 1.439521039907749 , Accuracy : 0.7976998686790466\n",
            "Test completed\n"
          ],
          "name": "stdout"
        }
      ]
    },
    {
      "cell_type": "markdown",
      "metadata": {
        "id": "NbRHs3YUgyxi",
        "colab_type": "text"
      },
      "source": [
        "## Save the checkpoint\n",
        "\n",
        "Now that your network is trained, save the model so you can load it later for making predictions. You probably want to save other things such as the mapping of classes to indices which you get from one of the image datasets: `image_datasets['train'].class_to_idx`. You can attach this to the model as an attribute which makes inference easier later on.\n",
        "\n",
        "```model.class_to_idx = image_datasets['train'].class_to_idx```\n",
        "\n",
        "Remember that you'll want to completely rebuild the model later so you can use it for inference. Make sure to include any information you need in the checkpoint. If you want to load the model and keep training, you'll want to save the number of epochs as well as the optimizer state, `optimizer.state_dict`. You'll likely want to use this trained model in the next part of the project, so best to save it now."
      ]
    },
    {
      "cell_type": "code",
      "metadata": {
        "id": "tuOtrHvLgyxj",
        "colab_type": "code",
        "outputId": "6235af4d-0a70-4f16-bc93-5bc2a34983c2",
        "colab": {
          "base_uri": "https://localhost:8080/",
          "height": 34
        }
      },
      "source": [
        "# TODO: Save the checkpoint \n",
        "def save_chk (model,optimizer,epochs,chk_dir,hidden):\n",
        "    checkpoint = {'arch': 'vgg',\n",
        "                  'input_size': 25088,\n",
        "                  'output_size': 102,\n",
        "                  'hidden_layers': 4096,\n",
        "                  'model_state_dict': model.state_dict(),\n",
        "                  'opt_state_dict':optimizer.state_dict(),\n",
        "                  'epochs':epochs \n",
        "                 }\n",
        "    \n",
        "    torch.save(checkpoint, chk_dir)\n",
        "    print(\"Model saved.\")\n",
        "\n",
        "save_chk(model,optimizer,5,'/content/drive/My Drive/project/chk2.pth',4096)"
      ],
      "execution_count": 0,
      "outputs": [
        {
          "output_type": "stream",
          "text": [
            "Model saved.\n"
          ],
          "name": "stdout"
        }
      ]
    },
    {
      "cell_type": "markdown",
      "metadata": {
        "id": "fg_EDwuhgyxn",
        "colab_type": "text"
      },
      "source": [
        "## Loading the checkpoint\n",
        "\n",
        "At this point it's good to write a function that can load a checkpoint and rebuild the model. That way you can come back to this project and keep working on it without having to retrain the network."
      ]
    },
    {
      "cell_type": "code",
      "metadata": {
        "id": "mZ3_KvFhgyxo",
        "colab_type": "code",
        "colab": {}
      },
      "source": [
        "# TODO: Write a function that loads a checkpoint and rebuilds the model\n",
        "def load_chk (filepath):\n",
        "    checkpoint = torch.load(filepath)\n",
        "    if checkpoint['arch'] == 'vgg':\n",
        "        \n",
        "        model = models.vgg16(pretrained=True)\n",
        "        \n",
        "        for param in model.parameters():\n",
        "            param.requires_grad = False\n",
        "   \n",
        "        \n",
        "    classifier = nn.Sequential(OrderedDict([\n",
        "                          ('fc1', nn.Linear(checkpoint['input_size'], checkpoint['hidden_layers'])),\n",
        "                          ('relu1', nn.ReLU()),\n",
        "                          ('dropout2', nn.Dropout()),\n",
        "                          ('fc3', nn.Linear(checkpoint['hidden_layers'], checkpoint['output_size'])),\n",
        "                          ('output', nn.LogSoftmax(dim=1))           \n",
        "                          ]))\n",
        "    \n",
        "    epochs=checkpoint['epochs']\n",
        "    model.classifier=classifier\n",
        "    model.load_state_dict(checkpoint['model_state_dict'])\n",
        "    optimizer=optim.Adam(model.classifier.parameters(), lr=0.01)\n",
        "    optimizer.load_state_dict(checkpoint['opt_state_dict'])\n",
        "    return model,epochs,optimizer\n",
        "  \n",
        "model,epochs,optimizer=load_chk ('/content/drive/My Drive/project/chk2.pth')"
      ],
      "execution_count": 0,
      "outputs": []
    },
    {
      "cell_type": "markdown",
      "metadata": {
        "id": "WKqZlvRIgyxu",
        "colab_type": "text"
      },
      "source": [
        "# Inference for classification\n",
        "\n",
        "Now you'll write a function to use a trained network for inference. That is, you'll pass an image into the network and predict the class of the flower in the image. Write a function called `predict` that takes an image and a model, then returns the top $K$ most likely classes along with the probabilities. It should look like \n",
        "\n",
        "```python\n",
        "probs, classes = predict(image_path, model)\n",
        "print(probs)\n",
        "print(classes)\n",
        "> [ 0.01558163  0.01541934  0.01452626  0.01443549  0.01407339]\n",
        "> ['70', '3', '45', '62', '55']\n",
        "```\n",
        "\n",
        "First you'll need to handle processing the input image such that it can be used in your network. \n",
        "\n",
        "## Image Preprocessing\n",
        "\n",
        "You'll want to use `PIL` to load the image ([documentation](https://pillow.readthedocs.io/en/latest/reference/Image.html)). It's best to write a function that preprocesses the image so it can be used as input for the model. This function should process the images in the same manner used for training. \n",
        "\n",
        "First, resize the images where the shortest side is 256 pixels, keeping the aspect ratio. This can be done with the [`thumbnail`](http://pillow.readthedocs.io/en/3.1.x/reference/Image.html#PIL.Image.Image.thumbnail) or [`resize`](http://pillow.readthedocs.io/en/3.1.x/reference/Image.html#PIL.Image.Image.thumbnail) methods. Then you'll need to crop out the center 224x224 portion of the image.\n",
        "\n",
        "Color channels of images are typically encoded as integers 0-255, but the model expected floats 0-1. You'll need to convert the values. It's easiest with a Numpy array, which you can get from a PIL image like so `np_image = np.array(pil_image)`.\n",
        "\n",
        "As before, the network expects the images to be normalized in a specific way. For the means, it's `[0.485, 0.456, 0.406]` and for the standard deviations `[0.229, 0.224, 0.225]`. You'll want to subtract the means from each color channel, then divide by the standard deviation. \n",
        "\n",
        "And finally, PyTorch expects the color channel to be the first dimension but it's the third dimension in the PIL image and Numpy array. You can reorder dimensions using [`ndarray.transpose`](https://docs.scipy.org/doc/numpy-1.13.0/reference/generated/numpy.ndarray.transpose.html). The color channel needs to be first and retain the order of the other two dimensions."
      ]
    },
    {
      "cell_type": "code",
      "metadata": {
        "id": "ILXKDTZJgyxw",
        "colab_type": "code",
        "colab": {}
      },
      "source": [
        "import numpy as np\n",
        "def process_image(imagedir):\n",
        "    ''' Scales, crops, and normalizes a PIL image for a PyTorch model,\n",
        "        returns an Numpy array\n",
        "    '''\n",
        "    # TODO: Process a PIL image for use in a PyTorch model\n",
        "    image=Image.open(imagedir)\n",
        "    print(\"loaded successfully\")\n",
        "    print(type(image))\n",
        "    # Resize\n",
        "    if image.size[0] > image.size[1]:\n",
        "        image=image.resize((image.size[0]+2, 256))\n",
        "    else:\n",
        "        image=image.resize((256, image.size[1]+2))\n",
        "        \n",
        "    \n",
        "    # Crop \n",
        "    width, height = image.size\n",
        "    left = (width-224)/2\n",
        "    bottom = (height-224)/2\n",
        "    right = left + 224\n",
        "    top = bottom + 224\n",
        "    \n",
        "    image = image.crop((left, bottom, right, top))\n",
        "    image=image.convert('RGB')\n",
        "    # Normalize\n",
        "    nimage = np.array(image)/255\n",
        "    mean = np.array([0.485, 0.456, 0.406])\n",
        "    std = np.array([0.229, 0.224, 0.225])\n",
        "    nimage = (nimage - mean) / std\n",
        "    nimage = nimage.transpose((2, 0, 1))\n",
        "    return nimage\n",
        "  "
      ],
      "execution_count": 0,
      "outputs": []
    },
    {
      "cell_type": "markdown",
      "metadata": {
        "id": "JWwfJfXngyx0",
        "colab_type": "text"
      },
      "source": [
        "To check your work, the function below converts a PyTorch tensor and displays it in the notebook. If your `process_image` function works, running the output through this function should return the original image (except for the cropped out portions)."
      ]
    },
    {
      "cell_type": "code",
      "metadata": {
        "id": "R-jvbZgHgyx3",
        "colab_type": "code",
        "colab": {}
      },
      "source": [
        "def imshow(image, ax=None, title=None):\n",
        "    \"\"\"Imshow for Tensor.\"\"\"\n",
        "    if ax is None:\n",
        "        fig, ax = plt.subplots()\n",
        "    \n",
        "    # PyTorch tensors assume the color channel is the first dimension\n",
        "    # but matplotlib assumes is the third dimension\n",
        "    image = image.numpy().transpose((1, 2, 0))\n",
        "    \n",
        "    # Undo preprocessing\n",
        "    mean = np.array([0.485, 0.456, 0.406])\n",
        "    std = np.array([0.229, 0.224, 0.225])\n",
        "    image = std * image + mean\n",
        "    \n",
        "    # Image needs to be clipped between 0 and 1 or it looks like noise when displayed\n",
        "    image = np.clip(image, 0, 1)\n",
        "    \n",
        "    ax.imshow(image)\n",
        "    \n",
        "    return ax"
      ],
      "execution_count": 0,
      "outputs": []
    },
    {
      "cell_type": "markdown",
      "metadata": {
        "id": "oNRF0CfBgyx9",
        "colab_type": "text"
      },
      "source": [
        "## Class Prediction\n",
        "\n",
        "Once you can get images in the correct format, it's time to write a function for making predictions with your model. A common practice is to predict the top 5 or so (usually called top-$K$) most probable classes. You'll want to calculate the class probabilities then find the $K$ largest values.\n",
        "\n",
        "To get the top $K$ largest values in a tensor use [`x.topk(k)`](http://pytorch.org/docs/master/torch.html#torch.topk). This method returns both the highest `k` probabilities and the indices of those probabilities corresponding to the classes. You need to convert from these indices to the actual class labels using `class_to_idx` which hopefully you added to the model or from an `ImageFolder` you used to load the data ([see here](#Save-the-checkpoint)). Make sure to invert the dictionary so you get a mapping from index to class as well.\n",
        "\n",
        "Again, this method should take a path to an image and a model checkpoint, then return the probabilities and classes.\n",
        "\n",
        "```python\n",
        "probs, classes = predict(image_path, model)\n",
        "print(probs)\n",
        "print(classes)\n",
        "> [ 0.01558163  0.01541934  0.01452626  0.01443549  0.01407339]\n",
        "> ['70', '3', '45', '62', '55']\n",
        "```"
      ]
    },
    {
      "cell_type": "code",
      "metadata": {
        "id": "aInDbh_ogyx-",
        "colab_type": "code",
        "outputId": "4d158e87-9778-42bc-846a-f52934233c09",
        "colab": {
          "base_uri": "https://localhost:8080/",
          "height": 85
        }
      },
      "source": [
        "import json\n",
        "\n",
        "def predict(image_path, model, topk=5):\n",
        "    ''' Predict the class (or classes) of an image using a trained deep learning model.\n",
        "    '''\n",
        "    device=torch.device(\"cuda:0\" if torch.cuda.is_available() else \"cpu\")\n",
        "    image=torch.from_numpy(process_image(image_path)).float().cuda()\n",
        "    image.to(device)\n",
        "    image = image.unsqueeze(0)\n",
        "    output = model.forward(image)\n",
        "    outp=torch.exp(output)\n",
        "    predicted,indeces = outp.topk(topk)\n",
        "    \n",
        "    #out =[topk]\n",
        "   \n",
        "    #for j in range(0,4,1):\n",
        "     # out[j]=classes[indeces[j]]\n",
        "    return predicted.tolist(),indeces.tolist()\n",
        "    \n",
        "# TODO: Implement the code to predict the class from an image file\n",
        "probs, classes = predict('/content/drive/My Drive/project/1.jpg', model.cuda())\n",
        "print(probs)\n",
        "print(classes)"
      ],
      "execution_count": 0,
      "outputs": [
        {
          "output_type": "stream",
          "text": [
            "loaded successfully\n",
            "<class 'PIL.JpegImagePlugin.JpegImageFile'>\n",
            "[[0.9999961256980896, 2.4522075818822486e-06, 6.963470013943152e-07, 3.9576133303853567e-07, 1.7688623188405472e-07]]\n",
            "[[12, 35, 26, 5, 34]]\n"
          ],
          "name": "stdout"
        }
      ]
    },
    {
      "cell_type": "markdown",
      "metadata": {
        "id": "tUj7Grv7gyyD",
        "colab_type": "text"
      },
      "source": [
        "## Sanity Checking\n",
        "\n",
        "Now that you can use a trained model for predictions, check to make sure it makes sense. Even if the testing accuracy is high, it's always good to check that there aren't obvious bugs. Use `matplotlib` to plot the probabilities for the top 5 classes as a bar graph, along with the input image. It should look like this:\n",
        "\n",
        "<img src='assets/inference_example.png' width=300px>\n",
        "\n",
        "You can convert from the class integer encoding to actual flower names with the `cat_to_name.json` file (should have been loaded earlier in the notebook). To show a PyTorch tensor as an image, use the `imshow` function defined above."
      ]
    },
    {
      "cell_type": "code",
      "metadata": {
        "id": "12prmwZTgyyE",
        "colab_type": "code",
        "outputId": "dcb47514-ebf0-4319-cfae-e0bb56965e15",
        "colab": {
          "base_uri": "https://localhost:8080/",
          "height": 313
        }
      },
      "source": [
        "# TODO: Display an image along with the top 5 classes\n",
        "import seaborn as sb\n",
        "with open('/content/drive/My Drive/project/cat_to_name.json', 'r') as f:\n",
        "        names = json.load(f)\n",
        "\n",
        "    \n",
        "topnames=[0,0,0,0,0]\n",
        "for i in range(0,4,1):\n",
        "  topnames[i]=names[str(classes[0][i])]\n",
        "    \n",
        "im = plt.imread('/content/drive/My Drive/project/1.jpg')\n",
        "y_pos = np.arange(5)\n",
        "fig, axs = plt.subplots(2, 1, constrained_layout=True)\n",
        "axs[0].imshow(im)\n",
        "axs[0].set_title(names[str(classes[0][0])])\n",
        "axs[1].barh(y_pos, probs[0],  align='center')\n",
        "axs[1].set_yticks(y_pos)\n",
        "axs[1].set_yticklabels(topnames)\n",
        "axs[1].set_xlabel('Probabilities')\n",
        "axs[1].set_title('Top probabilites')\n",
        "plt.show()\n",
        "#sb.countplot(data = probs, y = classes, color =sb.color_palette()[0])"
      ],
      "execution_count": 0,
      "outputs": [
        {
          "output_type": "display_data",
          "data": {
            "image/png": "[encoded data removed]",
            "text/plain": [
              "<Figure size 432x288 with 2 Axes>"
            ]
          },
          "metadata": {
            "tags": []
          }
        }
      ]
    }
  ]
}